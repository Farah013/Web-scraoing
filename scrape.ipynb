{
 "cells": [
  {
   "cell_type": "code",
   "execution_count": 7,
   "id": "bace6cd8",
   "metadata": {},
   "outputs": [],
   "source": [
    "from bs4 import BeautifulSoup\n",
    "import requests\n",
    "#we're going to need requests library also because we're going to send requests to a webpage and get some response\n",
    "url=\"https://www.pararius.com/apartments/amsterdam?ac=1\"\n",
    "#We need to export the data to a csv file so we're going to use the csv library\n",
    "from csv import writer\n",
    "page= requests.get(url)\n",
    "\n",
    "#Soup will have all the HTML code.\n",
    "soup = BeautifulSoup(page.content, 'html.parser')\n",
    "#We're going to store all the sections of the class listing-search-item in lists\n",
    "lists= soup.find_all('section', class_=\"listing-search-item\")\n",
    "#we have a lot of sections so we need to loop through the lists\n",
    "#We have to export the data into a csv file\n",
    "with open('housing.csv', 'w', encoding='utf8', newline='') as f:\n",
    "    thewriter= writer(f)\n",
    "    #The writer is responsible for writing in the file\n",
    "    header= ['Title', 'Location', 'Price', 'Area']\n",
    "    thewriter.writerow(header)\n",
    "    for list in lists:\n",
    "        title= list.find('a', class_=\"listing-search-item__link--title\").text.replace('\\n', '')\n",
    "        location= list.find('div', class_=\"listing-search-item__sub-title\").text.replace('\\n', '')\n",
    "        price= list.find('div', class_=\"listing-search-item__price\").text.replace('\\n', '')\n",
    "        area= list.find('li', class_=\"illustrated-features__item--surface-area\").text.replace('\\n','')\n",
    "        info=[title, location, price, area]\n",
    "        thewriter.writerow(info)\n"
   ]
  },
  {
   "cell_type": "code",
   "execution_count": null,
   "id": "1e1146e2",
   "metadata": {},
   "outputs": [],
   "source": []
  }
 ],
 "metadata": {
  "kernelspec": {
   "display_name": "Python 3 (ipykernel)",
   "language": "python",
   "name": "python3"
  },
  "language_info": {
   "codemirror_mode": {
    "name": "ipython",
    "version": 3
   },
   "file_extension": ".py",
   "mimetype": "text/x-python",
   "name": "python",
   "nbconvert_exporter": "python",
   "pygments_lexer": "ipython3",
   "version": "3.9.12"
  }
 },
 "nbformat": 4,
 "nbformat_minor": 5
}
